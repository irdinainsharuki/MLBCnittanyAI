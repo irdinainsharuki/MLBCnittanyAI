{
  "nbformat": 4,
  "nbformat_minor": 0,
  "metadata": {
    "colab": {
      "provenance": [],
      "authorship_tag": "ABX9TyOJexq1sfDIU9/5BxjqRbe5",
      "include_colab_link": true
    },
    "kernelspec": {
      "name": "python3",
      "display_name": "Python 3"
    },
    "language_info": {
      "name": "python"
    }
  },
  "cells": [
    {
      "cell_type": "markdown",
      "metadata": {
        "id": "view-in-github",
        "colab_type": "text"
      },
      "source": [
        "<a href=\"https://colab.research.google.com/github/irdinainsharuki/MLbootcampNA/blob/main/WhiteBoxmodel.ipynb\" target=\"_parent\"><img src=\"https://colab.research.google.com/assets/colab-badge.svg\" alt=\"Open In Colab\"/></a>"
      ]
    },
    {
      "cell_type": "code",
      "source": [
        "from google.colab import drive\n",
        "drive.mount('/content/drive')"
      ],
      "metadata": {
        "id": "5_9GEfNFs2KH",
        "colab": {
          "base_uri": "https://localhost:8080/"
        },
        "outputId": "b5b7a2aa-ddc9-4f5e-8fef-51f17fa8458e"
      },
      "execution_count": 1,
      "outputs": [
        {
          "output_type": "stream",
          "name": "stdout",
          "text": [
            "Mounted at /content/drive\n"
          ]
        }
      ]
    },
    {
      "cell_type": "code",
      "execution_count": 2,
      "metadata": {
        "id": "yXfM-3RpsycH"
      },
      "outputs": [],
      "source": [
        "import pandas as pd\n",
        "from sklearn.model_selection import train_test_split\n",
        "from sklearn.ensemble import RandomForestClassifier\n",
        "from sklearn.metrics import accuracy_score"
      ]
    },
    {
      "cell_type": "code",
      "source": [
        "path=\"/content/drive/MyDrive/Dataset/Iris.csv\"\n",
        "df=pd.read_csv(path)\n",
        "df.head()\n",
        "df = df.drop('Id', axis=1)"
      ],
      "metadata": {
        "id": "_6Zs8xmbtTAa"
      },
      "execution_count": 19,
      "outputs": []
    },
    {
      "cell_type": "code",
      "source": [
        "\n",
        "x = df.drop('Species', axis = 1)\n",
        "y = df['Species']"
      ],
      "metadata": {
        "id": "xeYwtLl3NVHz"
      },
      "execution_count": 41,
      "outputs": []
    },
    {
      "cell_type": "code",
      "source": [
        "x_train, x_test , y_train, y_test = train_test_split(x,y, test_size= 0.2, random_state =38)"
      ],
      "metadata": {
        "id": "tNF5fttpuF_p"
      },
      "execution_count": 60,
      "outputs": []
    },
    {
      "cell_type": "code",
      "source": [
        "rf = RandomForestClassifier(n_estimators=100,max_depth=5 , random_state=49)\n",
        "rf.fit(x_train, y_train)\n",
        "y_pred = rf.predict(x_test)"
      ],
      "metadata": {
        "id": "CnN7HgCwrDiS"
      },
      "execution_count": 61,
      "outputs": []
    },
    {
      "cell_type": "markdown",
      "source": [],
      "metadata": {
        "id": "vPZ3RvbIjCQv"
      }
    },
    {
      "cell_type": "markdown",
      "source": [],
      "metadata": {
        "id": "Ywbz7kQ9ifkg"
      }
    },
    {
      "cell_type": "code",
      "source": [
        "accuracy = accuracy_score(y_test, y_pred)\n",
        "print(f'Random Forest Accuracy: {accuracy * 100:.2f}%')"
      ],
      "metadata": {
        "colab": {
          "base_uri": "https://localhost:8080/"
        },
        "id": "fgUPAyknsXXp",
        "outputId": "10ebb2f2-3a4e-4bf3-871d-e543063c510c"
      },
      "execution_count": 62,
      "outputs": [
        {
          "output_type": "stream",
          "name": "stdout",
          "text": [
            "Random Forest Accuracy: 96.67%\n"
          ]
        }
      ]
    },
    {
      "cell_type": "code",
      "source": [
        "comparison = pd.DataFrame({'Actual Species': y_test, 'Predicted Species':  y_pred})\n",
        "print(comparison)"
      ],
      "metadata": {
        "colab": {
          "base_uri": "https://localhost:8080/"
        },
        "id": "e9zVNduEg05j",
        "outputId": "59039e47-4c24-4aa7-f4b2-d2cfcf900bcc"
      },
      "execution_count": 40,
      "outputs": [
        {
          "output_type": "stream",
          "name": "stdout",
          "text": [
            "      Actual Species Predicted Species\n",
            "128   Iris-virginica    Iris-virginica\n",
            "18       Iris-setosa       Iris-setosa\n",
            "130   Iris-virginica    Iris-virginica\n",
            "105   Iris-virginica    Iris-virginica\n",
            "107   Iris-virginica    Iris-virginica\n",
            "78   Iris-versicolor   Iris-versicolor\n",
            "83   Iris-versicolor    Iris-virginica\n",
            "14       Iris-setosa       Iris-setosa\n",
            "5        Iris-setosa       Iris-setosa\n",
            "133   Iris-virginica    Iris-virginica\n",
            "25       Iris-setosa       Iris-setosa\n",
            "11       Iris-setosa       Iris-setosa\n",
            "12       Iris-setosa       Iris-setosa\n",
            "63   Iris-versicolor   Iris-versicolor\n",
            "113   Iris-virginica    Iris-virginica\n",
            "34       Iris-setosa       Iris-setosa\n",
            "60   Iris-versicolor   Iris-versicolor\n",
            "2        Iris-setosa       Iris-setosa\n",
            "24       Iris-setosa       Iris-setosa\n",
            "123   Iris-virginica    Iris-virginica\n",
            "35       Iris-setosa       Iris-setosa\n",
            "124   Iris-virginica    Iris-virginica\n",
            "68   Iris-versicolor   Iris-versicolor\n",
            "26       Iris-setosa       Iris-setosa\n",
            "29       Iris-setosa       Iris-setosa\n",
            "19       Iris-setosa       Iris-setosa\n",
            "41       Iris-setosa       Iris-setosa\n",
            "16       Iris-setosa       Iris-setosa\n",
            "20       Iris-setosa       Iris-setosa\n",
            "101   Iris-virginica    Iris-virginica\n"
          ]
        }
      ]
    }
  ]
}